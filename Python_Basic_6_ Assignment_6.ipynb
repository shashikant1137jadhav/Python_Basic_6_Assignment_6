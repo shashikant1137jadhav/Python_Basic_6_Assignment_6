{
 "cells": [
  {
   "cell_type": "markdown",
   "id": "c800310a",
   "metadata": {},
   "source": [
    "## 1. What are escape characters, and how do you use them?"
   ]
  },
  {
   "cell_type": "code",
   "execution_count": null,
   "id": "b4c7b131",
   "metadata": {},
   "outputs": [],
   "source": [
    "To insert characters that are illegal in a string, use an escape character.\n",
    "\n",
    "Code             Result                 Example               output\n",
    "\\'          Single Quote         'I can\\'t see you'          I can't see you\n",
    "\\\\          Backslash            'Insert \\\\ this'            insert \\ this\n",
    "\\n          New Line\n",
    "\\t          Tab\n",
    "\\r          carriage Return       \"Hello\\rWorld!\"     "
   ]
  },
  {
   "cell_type": "markdown",
   "id": "3e9ef47f",
   "metadata": {},
   "source": [
    "## 2. What do the escape characters n and t stand for?"
   ]
  },
  {
   "cell_type": "code",
   "execution_count": null,
   "id": "851e51d6",
   "metadata": {},
   "outputs": [],
   "source": [
    "\\n          New Line\n",
    "\\t          Tab"
   ]
  },
  {
   "cell_type": "markdown",
   "id": "c1513bf2",
   "metadata": {},
   "source": [
    "## 3. What is the way to include backslash characters in a string?"
   ]
  },
  {
   "cell_type": "code",
   "execution_count": null,
   "id": "2167a728",
   "metadata": {},
   "outputs": [],
   "source": [
    "Code             Result                 Example               output\n",
    "\\\\          Backslash            'Insert \\\\ this'            insert \\ this"
   ]
  },
  {
   "cell_type": "markdown",
   "id": "a8339942",
   "metadata": {},
   "source": [
    "## 4. The string &quot;Howl&#39;s Moving Castle&quot; is a correct value. Why isn&#39;t the single quote character in the word Howl&#39;s not escaped a problem?"
   ]
  },
  {
   "cell_type": "code",
   "execution_count": null,
   "id": "a3195cc5",
   "metadata": {},
   "outputs": [],
   "source": [
    "Because Here we opened and closed the string with double quotes"
   ]
  },
  {
   "cell_type": "markdown",
   "id": "4f9b8b94",
   "metadata": {},
   "source": [
    "## 5. How do you write a string of newlines if you don&#39;t want to use the n character?"
   ]
  },
  {
   "cell_type": "code",
   "execution_count": null,
   "id": "2f22d332",
   "metadata": {},
   "outputs": [],
   "source": [
    "simply take to print function\n",
    "print('Hello ')\n",
    "print('World')"
   ]
  },
  {
   "cell_type": "markdown",
   "id": "b9c5faf5",
   "metadata": {},
   "source": [
    "## 6. What are the values of the given expressions?\n",
    "&#39;Hello, world!&#39;[1]\n",
    "\n",
    "&#39;Hello, world!&#39;[0:5]\n",
    "\n",
    "&#39;Hello, world!&#39;[:5]\n",
    "\n",
    "&#39;Hello, world!&#39;[3:]"
   ]
  },
  {
   "cell_type": "code",
   "execution_count": null,
   "id": "ad11559d",
   "metadata": {},
   "outputs": [],
   "source": [
    "'Hello, world!'[1]                 >>>>'e'\n",
    "'Hello, world!'[0:5]               >>>>'Hello'\n",
    "'Hello, world!'[:5]                >>>>'Hello'\n",
    "'Hello, world!'[3:]                >>>>'lo, world!'"
   ]
  },
  {
   "cell_type": "markdown",
   "id": "af975b19",
   "metadata": {},
   "source": [
    "## 7. What are the values of the following expressions?\n",
    "&#39;Hello&#39;.upper()\n",
    "\n",
    "&#39;Hello&#39;.upper().isupper()\n",
    "\n",
    "&#39;Hello&#39;.upper().lower()"
   ]
  },
  {
   "cell_type": "code",
   "execution_count": null,
   "id": "463a67f3",
   "metadata": {},
   "outputs": [],
   "source": [
    "'Hello'.upper()                   >>>>'HELLO'\n",
    "'Hello'.upper().isupper()         >>>>True\n",
    "'Hello'.upper().lower()           >>>>'hello'"
   ]
  },
  {
   "cell_type": "markdown",
   "id": "9b9962f2",
   "metadata": {},
   "source": [
    "## 8. What are the values of the following expressions?\n",
    "&#39;Remember, remember, the fifth of July.&#39;.split()\n",
    "\n",
    "&#39;-&#39;.join(&#39;There can only one.&#39;.split())"
   ]
  },
  {
   "cell_type": "code",
   "execution_count": null,
   "id": "529a7187",
   "metadata": {},
   "outputs": [],
   "source": [
    "['Remember,', 'remember,', 'the', 'fifth', 'of', 'July.']\n",
    "\n",
    "'There-can-only-one.'"
   ]
  },
  {
   "cell_type": "markdown",
   "id": "61ac2e8b",
   "metadata": {},
   "source": [
    "## 9. What are the methods for right-justifying, left-justifying, and centering a string?"
   ]
  },
  {
   "cell_type": "code",
   "execution_count": null,
   "id": "087e82eb",
   "metadata": {},
   "outputs": [],
   "source": [
    "right-justifying        >>>> rjust()\n",
    "left-justifying         >>>> ljust()\n",
    "centering               >>>> center()"
   ]
  },
  {
   "cell_type": "markdown",
   "id": "c103799c",
   "metadata": {},
   "source": [
    "## 10. What is the best way to remove whitespace characters from the start or end?"
   ]
  },
  {
   "cell_type": "code",
   "execution_count": 25,
   "id": "4a274aaf",
   "metadata": {},
   "outputs": [],
   "source": [
    "to remove whitespace characters from the start    >>>>lstrip()\n",
    "to remove whitespace characters from the end      >>>>rstrip()"
   ]
  },
  {
   "cell_type": "code",
   "execution_count": null,
   "id": "2dc66c4e",
   "metadata": {},
   "outputs": [],
   "source": [
    "\n"
   ]
  },
  {
   "cell_type": "code",
   "execution_count": null,
   "id": "ed4ab019",
   "metadata": {},
   "outputs": [],
   "source": []
  }
 ],
 "metadata": {
  "kernelspec": {
   "display_name": "Python 3 (ipykernel)",
   "language": "python",
   "name": "python3"
  },
  "language_info": {
   "codemirror_mode": {
    "name": "ipython",
    "version": 3
   },
   "file_extension": ".py",
   "mimetype": "text/x-python",
   "name": "python",
   "nbconvert_exporter": "python",
   "pygments_lexer": "ipython3",
   "version": "3.9.12"
  }
 },
 "nbformat": 4,
 "nbformat_minor": 5
}
